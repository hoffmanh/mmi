{
 "cells": [
  {
   "cell_type": "markdown",
   "id": "b71ba0fd",
   "metadata": {},
   "source": [
    "# MMI prediction\n",
    "\n",
    "## 2. Data wrangling\n",
    "- Remove MRNs\n",
    "- Remove non-LVOs\n",
    "- Create time variables\n",
    "- Create train/test sets and save as pkl"
   ]
  },
  {
   "cell_type": "code",
   "execution_count": 1,
   "id": "66c7b782",
   "metadata": {},
   "outputs": [],
   "source": [
    "import pandas as pd\n",
    "import numpy as np\n",
    "\n",
    "from sklearn.model_selection import train_test_split"
   ]
  },
  {
   "cell_type": "code",
   "execution_count": 2,
   "id": "ab10cf43",
   "metadata": {},
   "outputs": [],
   "source": [
    "pd.set_option('display.max_columns', 500)"
   ]
  },
  {
   "cell_type": "code",
   "execution_count": 3,
   "id": "3bd9426c",
   "metadata": {
    "scrolled": true
   },
   "outputs": [
    {
     "name": "stdout",
     "output_type": "stream",
     "text": [
      "There are 397 total samples\n"
     ]
    }
   ],
   "source": [
    "dat = pd.read_pickle('dat_42422.pkl')\n",
    "print('There are {} total samples'.format(dat.shape[0]))"
   ]
  },
  {
   "cell_type": "code",
   "execution_count": 4,
   "id": "9271f83c",
   "metadata": {},
   "outputs": [],
   "source": [
    "dat = dat.drop('mrn', axis = 1)"
   ]
  },
  {
   "cell_type": "code",
   "execution_count": 5,
   "id": "972c8f84",
   "metadata": {
    "scrolled": true
   },
   "outputs": [
    {
     "data": {
      "text/plain": [
       "M1      241\n",
       "M2      117\n",
       "ICA      23\n",
       "None     13\n",
       "A2        1\n",
       "M3        1\n",
       "ACA       1\n",
       "Name: occ_site, dtype: int64"
      ]
     },
     "execution_count": 5,
     "metadata": {},
     "output_type": "execute_result"
    }
   ],
   "source": [
    "dat['occ_site'].value_counts()"
   ]
  },
  {
   "cell_type": "code",
   "execution_count": 6,
   "id": "06cb63e6",
   "metadata": {},
   "outputs": [
    {
     "name": "stdout",
     "output_type": "stream",
     "text": [
      "There are 381 total samples that fit inclusion criteria\n"
     ]
    }
   ],
   "source": [
    "# remove non-LVO \n",
    "\n",
    "locations_to_exclude = ['ACA', 'A2', 'M3', 'None']\n",
    "\n",
    "dat = dat[dat['occ_site'].isin(locations_to_exclude) == False]\n",
    "print('There are {} total samples that fit inclusion criteria'.format(dat.shape[0]))"
   ]
  },
  {
   "cell_type": "code",
   "execution_count": 7,
   "id": "15a98d1f",
   "metadata": {},
   "outputs": [],
   "source": [
    "# create separate df with outcomes for analysis\n",
    "\n",
    "outcomes = ['mrs_90', 'ich_type', 'malig_infarct']\n",
    "\n",
    "dat_outcomes = dat[outcomes]\n",
    "dat_outcomes.to_pickle('/Users/haydnhoffman/ml/stroke/malig_infarct/analysis/dat_outcomes.pkl')"
   ]
  },
  {
   "cell_type": "code",
   "execution_count": 7,
   "id": "e9e9fcaf",
   "metadata": {},
   "outputs": [],
   "source": [
    "# convert time variables to datetime objects\n",
    "\n",
    "time_columns = ['lkw', 'arr', 'skin_puncture', 'first_pass_time', 'reperf']\n",
    "dat[time_columns] = dat[time_columns].apply(lambda x: pd.to_datetime(x, errors = 'coerce', utc = True))"
   ]
  },
  {
   "cell_type": "code",
   "execution_count": 8,
   "id": "fcd61bc5",
   "metadata": {},
   "outputs": [],
   "source": [
    "# calculate time intervals and convert to hours\n",
    "\n",
    "dat['time_to_arr'] = (dat['arr'] - dat['lkw']).dt.total_seconds() / 3600\n",
    "dat['time_to_puncture'] = (dat['skin_puncture'] - dat['arr']).dt.total_seconds() / 3600\n",
    "dat['time_to_first_pass'] = (dat['first_pass_time'] - dat['skin_puncture']).dt.total_seconds() / 3600\n",
    "dat['time_to_reperf'] = (dat['reperf'] - dat['lkw']).dt.total_seconds() / 3600"
   ]
  },
  {
   "cell_type": "code",
   "execution_count": 9,
   "id": "6a788681",
   "metadata": {},
   "outputs": [],
   "source": [
    "# remove raw time variables\n",
    "\n",
    "dat = dat.drop(['arr', 'lkw', 'skin_puncture', 'first_pass_time', 'reperf'], axis = 1)"
   ]
  },
  {
   "cell_type": "code",
   "execution_count": 10,
   "id": "74459b45",
   "metadata": {},
   "outputs": [],
   "source": [
    "# if no heparin was used fill as 0\n",
    "\n",
    "dat['heparin'] = dat['heparin'].fillna(0)"
   ]
  },
  {
   "cell_type": "code",
   "execution_count": 11,
   "id": "605dd737",
   "metadata": {},
   "outputs": [],
   "source": [
    "# create separate variables for each stent retriever used\n",
    "\n",
    "stent_retriever_types = ['Trevo', 'Solitaire', 'Embotrap', 'Capture']\n",
    "\n",
    "for stent in stent_retriever_types:\n",
    "    dat[stent.lower()] = np.where(dat['stent_ret_type'].str.contains(stent, na = False), 'Y', 'N')\n",
    "    \n",
    "dat = dat.drop('stent_ret_type', axis = 1)"
   ]
  },
  {
   "cell_type": "code",
   "execution_count": 12,
   "id": "4dc32cf8",
   "metadata": {},
   "outputs": [],
   "source": [
    "# some categorical variables do not parse correctly; manually convert\n",
    "\n",
    "categorical_vars = ['stroke_etiol', 'mrs_90', 'ich_type', 'pre_mrs', 'coll_score', 'hyperdense']\n",
    "for var in categorical_vars:\n",
    "    dat[var] = dat[var].astype(object)"
   ]
  },
  {
   "cell_type": "code",
   "execution_count": 13,
   "id": "3a583d15",
   "metadata": {},
   "outputs": [],
   "source": [
    "# separate labels from features\n",
    "\n",
    "outcomes = ['mrs_90', 'ich_type', 'malig_infarct']\n",
    "\n",
    "y = dat['malig_infarct']\n",
    "X = dat.drop(outcomes, axis = 1)"
   ]
  },
  {
   "cell_type": "code",
   "execution_count": 14,
   "id": "e598ced9",
   "metadata": {},
   "outputs": [
    {
     "name": "stdout",
     "output_type": "stream",
     "text": [
      "There are 304 training samples and 77 testing samples\n"
     ]
    }
   ],
   "source": [
    "# create train and test sets\n",
    "\n",
    "X_train, X_test, y_train, y_test = train_test_split(X, y, test_size = 0.2, random_state = 42)\n",
    "print('There are {} training samples and {} testing samples'.format(X_train.shape[0], X_test.shape[0]))"
   ]
  },
  {
   "cell_type": "code",
   "execution_count": 15,
   "id": "857d4f14",
   "metadata": {},
   "outputs": [],
   "source": [
    "# save data for later use\n",
    "\n",
    "X_train.to_pickle('X_train.pkl')\n",
    "X_test.to_pickle('X_test.pkl')\n",
    "y_train.to_pickle('y_train.pkl')\n",
    "y_test.to_pickle('y_test.pkl')"
   ]
  },
  {
   "cell_type": "code",
   "execution_count": null,
   "id": "ab90e340",
   "metadata": {},
   "outputs": [],
   "source": []
  }
 ],
 "metadata": {
  "kernelspec": {
   "display_name": "Python 3",
   "language": "python",
   "name": "python3"
  },
  "language_info": {
   "codemirror_mode": {
    "name": "ipython",
    "version": 3
   },
   "file_extension": ".py",
   "mimetype": "text/x-python",
   "name": "python",
   "nbconvert_exporter": "python",
   "pygments_lexer": "ipython3",
   "version": "3.9.1"
  }
 },
 "nbformat": 4,
 "nbformat_minor": 5
}
