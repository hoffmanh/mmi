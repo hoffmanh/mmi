{
 "cells": [
  {
   "cell_type": "markdown",
   "id": "d81f1161",
   "metadata": {},
   "source": [
    "# MMI prediction\n",
    "\n",
    "## 1. Load data\n",
    "- Remove duplicate patients (i.e. repeat thrombectomies)\n",
    "- Remove patients with missing outcomes"
   ]
  },
  {
   "cell_type": "code",
   "execution_count": 1,
   "id": "ba11bb35",
   "metadata": {},
   "outputs": [],
   "source": [
    "import os\n",
    "\n",
    "import pandas as pd"
   ]
  },
  {
   "cell_type": "code",
   "execution_count": 5,
   "id": "46bad4d9",
   "metadata": {},
   "outputs": [
    {
     "name": "stdout",
     "output_type": "stream",
     "text": [
      "There are 413 patients before removing duplicates\n",
      "There are 411 patients after removing duplicates\n",
      "There are 413 patients before removing duplicates\n",
      "There are 411 patients after removing duplicates\n",
      "There are 413 patients before removing duplicates\n",
      "There are 411 patients after removing duplicates\n",
      "There are 413 patients before removing duplicates\n",
      "There are 411 patients after removing duplicates\n",
      "There are 413 patients before removing duplicates\n",
      "There are 411 patients after removing duplicates\n",
      "There are 413 patients before removing duplicates\n",
      "There are 411 patients after removing duplicates\n"
     ]
    }
   ],
   "source": [
    "# load each csv file as a pd dataframe, drop duplicate mrn's, and add them to a list\n",
    "\n",
    "dfs = []\n",
    "\n",
    "for file in os.listdir('data'):\n",
    "    df = pd.read_csv(os.path.join('data', file))\n",
    "    print('There are {} patients before removing duplicates'.format(df.shape[0]))\n",
    "    df = df.drop_duplicates(subset = 'mrn', keep = 'first')\n",
    "    print('There are {} patients after removing duplicates'.format(df.shape[0]))\n",
    "    dfs.append(df)"
   ]
  },
  {
   "cell_type": "code",
   "execution_count": 6,
   "id": "34256263",
   "metadata": {},
   "outputs": [],
   "source": [
    "# merge each individual pd dataframe from the list\n",
    "\n",
    "for i in range(len(dfs)):\n",
    "    if i == 0:\n",
    "        dat = dfs[i]\n",
    "    else:\n",
    "        dat = dat.merge(dfs[i], how = 'left', on = 'mrn')"
   ]
  },
  {
   "cell_type": "code",
   "execution_count": 7,
   "id": "c9df17f6",
   "metadata": {},
   "outputs": [],
   "source": [
    "# remove empty columns\n",
    "\n",
    "dat = dat.drop(['Unnamed: 9', 'Unnamed: 21'], axis = 1)"
   ]
  },
  {
   "cell_type": "code",
   "execution_count": 8,
   "id": "cb395bcd",
   "metadata": {
    "scrolled": true
   },
   "outputs": [
    {
     "name": "stdout",
     "output_type": "stream",
     "text": [
      "There are 397 patients after removing those with missing outcomes\n"
     ]
    }
   ],
   "source": [
    "# drop rows that are missing labels\n",
    "\n",
    "dat = dat[dat['malig_infarct'].notna()]\n",
    "print('There are {} patients after removing those with missing outcomes'.format(dat.shape[0]))"
   ]
  },
  {
   "cell_type": "code",
   "execution_count": 9,
   "id": "3b656963",
   "metadata": {},
   "outputs": [
    {
     "data": {
      "text/plain": [
       "False"
      ]
     },
     "execution_count": 9,
     "metadata": {},
     "output_type": "execute_result"
    }
   ],
   "source": [
    "# double check no patients have missing outcomes\n",
    "\n",
    "any(dat['malig_infarct'].isnull())"
   ]
  },
  {
   "cell_type": "code",
   "execution_count": 11,
   "id": "316fd253",
   "metadata": {},
   "outputs": [],
   "source": [
    "# save data for later use\n",
    "\n",
    "dat.to_pickle('dat_42422.pkl')"
   ]
  },
  {
   "cell_type": "code",
   "execution_count": null,
   "id": "b28a980c",
   "metadata": {},
   "outputs": [],
   "source": []
  }
 ],
 "metadata": {
  "kernelspec": {
   "display_name": "Python 3",
   "language": "python",
   "name": "python3"
  },
  "language_info": {
   "codemirror_mode": {
    "name": "ipython",
    "version": 3
   },
   "file_extension": ".py",
   "mimetype": "text/x-python",
   "name": "python",
   "nbconvert_exporter": "python",
   "pygments_lexer": "ipython3",
   "version": "3.9.1"
  }
 },
 "nbformat": 4,
 "nbformat_minor": 5
}
